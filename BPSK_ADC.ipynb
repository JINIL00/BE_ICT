{
  "nbformat": 4,
  "nbformat_minor": 0,
  "metadata": {
    "kernelspec": {
      "display_name": "Python 3",
      "language": "python",
      "name": "python3"
    },
    "language_info": {
      "codemirror_mode": {
        "name": "ipython",
        "version": 3
      },
      "file_extension": ".py",
      "mimetype": "text/x-python",
      "name": "python",
      "nbconvert_exporter": "python",
      "pygments_lexer": "ipython3",
      "version": "3.7.3"
    },
    "colab": {
      "name": "BPSK_ADC.ipynb",
      "provenance": []
    }
  },
  "cells": [
    {
      "cell_type": "markdown",
      "metadata": {
        "id": "zP8dyBR7nBw7"
      },
      "source": [
        "# Importing the libraries"
      ]
    },
    {
      "cell_type": "code",
      "metadata": {
        "id": "C09nmuFRnBw-"
      },
      "source": [
        "import numpy as np\n",
        "from scipy import signal\n",
        "import pandas as pd\n",
        "import matplotlib.pyplot as plt"
      ],
      "execution_count": null,
      "outputs": []
    },
    {
      "cell_type": "markdown",
      "metadata": {
        "id": "Ryi9KQmUnBxA"
      },
      "source": [
        "# Binary Phase Shift Keying (BPSK) Modulation"
      ]
    },
    {
      "cell_type": "markdown",
      "metadata": {
        "id": "JuTY9xTWnBxA"
      },
      "source": [
        "## Carrier and modulating wave parameters"
      ]
    },
    {
      "cell_type": "code",
      "metadata": {
        "colab": {
          "base_uri": "https://localhost:8080/"
        },
        "id": "Ee2AlaSSnBxB",
        "outputId": "0089c28a-300b-4d79-840b-4a945cefb38c"
      },
      "source": [
        "fc = int(input(\"Enter frequency of carrier signal: \"))\n",
        "fm = int(input(\"Enter frequency of modulating signal: \"))\n",
        "A = int(input(\"Enter amplitude of carrier signal: \"))"
      ],
      "execution_count": null,
      "outputs": [
        {
          "name": "stdout",
          "output_type": "stream",
          "text": [
            "Enter frequency of carrier signal: 20\n",
            "Enter frequency of modulating signal: 5\n",
            "Enter amplitude of carrier signal: 5\n"
          ]
        }
      ]
    },
    {
      "cell_type": "markdown",
      "metadata": {
        "id": "HjSwOdm-nBxC"
      },
      "source": [
        "## Sampling rate"
      ]
    },
    {
      "cell_type": "code",
      "metadata": {
        "colab": {
          "base_uri": "https://localhost:8080/"
        },
        "id": "s2K-kZLdnBxC",
        "outputId": "3d73beab-3a44-4eb7-984c-334d7210d940"
      },
      "source": [
        "t = np.linspace(start=0, stop=1, num=10000, endpoint=True)\n",
        "t"
      ],
      "execution_count": null,
      "outputs": [
        {
          "output_type": "execute_result",
          "data": {
            "text/plain": [
              "array([0.00000000e+00, 1.00010001e-04, 2.00020002e-04, ...,\n",
              "       9.99799980e-01, 9.99899990e-01, 1.00000000e+00])"
            ]
          },
          "metadata": {},
          "execution_count": 5
        }
      ]
    },
    {
      "cell_type": "markdown",
      "metadata": {
        "id": "S6GOFAklnBxD"
      },
      "source": [
        "## Carrier wave\n",
        "## Vcarrier = Asin(2πft)"
      ]
    },
    {
      "cell_type": "code",
      "metadata": {
        "colab": {
          "base_uri": "https://localhost:8080/"
        },
        "id": "O0ScVulZnBxD",
        "outputId": "0fa1b2b0-94c8-42f7-ff71-ae221852a66e"
      },
      "source": [
        "carrier = np.array(A*np.sin(2*np.pi*fc*t))\n",
        "carrier"
      ],
      "execution_count": null,
      "outputs": [
        {
          "output_type": "execute_result",
          "data": {
            "text/plain": [
              "array([ 0.00000000e+00,  6.28364827e-02,  1.25663041e-01, ...,\n",
              "       -1.25663041e-01, -6.28364827e-02, -2.44929360e-14])"
            ]
          },
          "metadata": {},
          "execution_count": 6
        }
      ]
    },
    {
      "cell_type": "markdown",
      "metadata": {
        "id": "VxIJSZw0nBxE"
      },
      "source": [
        "## Modulating wave - b(t)"
      ]
    },
    {
      "cell_type": "code",
      "metadata": {
        "colab": {
          "base_uri": "https://localhost:8080/"
        },
        "id": "JC1M69oInBxE",
        "outputId": "6afad93b-fe40-4a65-ec69-4746546571f7"
      },
      "source": [
        "b = np.array(signal.square(2*np.pi*fm*t))\n",
        "b"
      ],
      "execution_count": null,
      "outputs": [
        {
          "output_type": "execute_result",
          "data": {
            "text/plain": [
              "array([ 1.,  1.,  1., ..., -1., -1.,  1.])"
            ]
          },
          "metadata": {},
          "execution_count": 7
        }
      ]
    },
    {
      "cell_type": "markdown",
      "metadata": {
        "id": "3m2_qP2DnBxE"
      },
      "source": [
        "## BPSK signal\n",
        "## Vbpsk = b(t)*Carrier"
      ]
    },
    {
      "cell_type": "code",
      "metadata": {
        "id": "lZN5s0JLnBxE"
      },
      "source": [
        "BPSK = np.array(b*carrier)"
      ],
      "execution_count": null,
      "outputs": []
    },
    {
      "cell_type": "markdown",
      "metadata": {
        "id": "sNsj1lhknBxF"
      },
      "source": [
        "## Plotting the BPSK"
      ]
    },
    {
      "cell_type": "code",
      "metadata": {
        "colab": {
          "base_uri": "https://localhost:8080/",
          "height": 311
        },
        "id": "3aWQviWenBxF",
        "outputId": "29f7f144-0b27-4a0e-9370-bb39ed513557"
      },
      "source": [
        "fig, axes = plt.subplots(nrows=3, ncols=1)\n",
        "axes[0].plot(t, carrier)#carrier wave\n",
        "axes[1].plot(t, b)      #modulating signal\n",
        "axes[2].plot(t, BPSK)   #BPSK signal\n",
        "\n",
        "axes[0].set_title('Carrier wave')\n",
        "axes[1].set_title('Modulating signal')\n",
        "axes[2].set_title('BPSK signal')\n",
        "\n",
        "plt.tight_layout()\n",
        "\n",
        "#fig.set_figheight(12)\n",
        "#fig.set_figwidth(20)\n",
        "\n",
        "axes[0].set_xlabel('time')\n",
        "axes[0].set_ylabel('Amplitude')\n",
        "axes[1].set_xlabel('time')\n",
        "axes[1].set_ylabel('Amplitude')\n",
        "axes[2].set_xlabel('time')\n",
        "axes[2].set_ylabel('Amplitude')\n",
        "\n",
        "axes[0].grid(which='major', axis='both')\n",
        "axes[1].grid(which='major', axis='both')\n",
        "axes[2].grid(which='major', axis='both')"
      ],
      "execution_count": null,
      "outputs": [
        {
          "output_type": "display_data",
          "data": {
            "text/plain": [
              "<Figure size 432x288 with 3 Axes>"
            ],
            "image/png": "[encoded data removed]"
          },
          "metadata": {
            "needs_background": "light"
          }
        }
      ]
    },
    {
      "cell_type": "code",
      "metadata": {
        "id": "mNLdH5XzxVMK"
      },
      "source": [
        ""
      ],
      "execution_count": null,
      "outputs": []
    }
  ]
}